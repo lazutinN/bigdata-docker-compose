{
 "cells": [
  {
   "cell_type": "code",
   "execution_count": 17,
   "id": "281edd9b-9499-43f4-9956-99e8808ddddb",
   "metadata": {},
   "outputs": [
    {
     "name": "stdout",
     "output_type": "stream",
     "text": [
      "Requirement already satisfied: mrjob in /usr/local/lib/python3.10/dist-packages (0.7.4)\n",
      "Requirement already satisfied: PyYAML>=3.10 in /usr/local/lib/python3.10/dist-packages (from mrjob) (6.0.1)\n",
      "\u001b[33mWARNING: Running pip as the 'root' user can result in broken permissions and conflicting behaviour with the system package manager. It is recommended to use a virtual environment instead: https://pip.pypa.io/warnings/venv\u001b[0m\u001b[33m\n",
      "\u001b[0m"
     ]
    }
   ],
   "source": [
    "!pip install mrjob"
   ]
  },
  {
   "cell_type": "code",
   "execution_count": 18,
   "id": "2ef33bb2-1bf4-4188-b4da-f09d41021143",
   "metadata": {},
   "outputs": [
    {
     "name": "stdout",
     "output_type": "stream",
     "text": [
      "Overwriting task_1.py\n"
     ]
    }
   ],
   "source": [
    "%%file task_1.py\n",
    "\n",
    "from mrjob.job import MRJob\n",
    "from mrjob.step import MRStep\n",
    "\n",
    "class TopCharacters(MRJob):\n",
    "    def mapper(self, _, line):\n",
    "        characterName = line.split(\" \")[1]\n",
    "        yield characterName, 1\n",
    "    \n",
    "    def reducer(self, characterName, characterCount):\n",
    "        yield None, (characterName, sum(characterCount))   \n",
    "\n",
    "    def reducer_top(self, _, characterCount):\n",
    "        top_character = sorted(characterCount, key=lambda x: x[1], reverse=True)[:20]\n",
    "        for character, count in top_character:\n",
    "            yield character, count\n",
    "    \n",
    "    def steps(self):\n",
    "        return [\n",
    "            MRStep(\n",
    "                   mapper=self.mapper,\n",
    "                   reducer=self.reducer),\n",
    "            MRStep(\n",
    "                   reducer=self.reducer_top)\n",
    "        ]\n",
    "    \n",
    "if __name__ == '__main__':\n",
    "    TopCharacters.run()"
   ]
  },
  {
   "cell_type": "markdown",
   "id": "5d7a34a8-ad01-4deb-8375-97f572ba72af",
   "metadata": {},
   "source": [
    "### Локально"
   ]
  },
  {
   "cell_type": "code",
   "execution_count": 23,
   "id": "4cadbb46-6575-4bf2-afa8-c0aa5d1a72d2",
   "metadata": {},
   "outputs": [
    {
     "name": "stdout",
     "output_type": "stream",
     "text": [
      "No configs found; falling back on auto-configuration\n",
      "No configs specified for inline runner\n",
      "Creating temp directory /tmp/task_1.root.20231206.101753.140513\n",
      "Running step 1 of 2...\n",
      "Running step 2 of 2...\n",
      "job output is in /tmp/task_1.root.20231206.101753.140513/output\n",
      "Streaming final output from /tmp/task_1.root.20231206.101753.140513/output...\n",
      "\"\\\"LUKE\\\"\"\t254\n",
      "\"\\\"HAN\\\"\"\t153\n",
      "\"\\\"THREEPIO\\\"\"\t119\n",
      "\"\\\"BEN\\\"\"\t82\n",
      "\"\\\"LEIA\\\"\"\t57\n",
      "\"\\\"RED\"\t49\n",
      "\"\\\"VADER\\\"\"\t41\n",
      "\"\\\"BIGGS\\\"\"\t34\n",
      "\"\\\"TARKIN\\\"\"\t28\n",
      "\"\\\"OWEN\\\"\"\t25\n",
      "\"\\\"GOLD\"\t23\n",
      "\"\\\"TROOPER\\\"\"\t19\n",
      "\"\\\"WEDGE\\\"\"\t14\n",
      "\"\\\"OFFICER\\\"\"\t11\n",
      "\"\\\"FIRST\"\t7\n",
      "\"\\\"AUNT\"\t6\n",
      "\"\\\"INTERCOM\"\t6\n",
      "\"\\\"JABBA\\\"\"\t6\n",
      "\"\\\"DEATH\"\t6\n",
      "\"\\\"DODONNA\\\"\"\t6\n",
      "Removing temp directory /tmp/task_1.root.20231206.101753.140513...\n"
     ]
    }
   ],
   "source": [
    "!python3 task_1.py ../../data/SW_EpisodeIV.txt"
   ]
  },
  {
   "cell_type": "code",
   "execution_count": 24,
   "id": "c8b25c81-0014-4b7d-b0ee-631eb9f3b3c0",
   "metadata": {},
   "outputs": [
    {
     "name": "stdout",
     "output_type": "stream",
     "text": [
      "No configs found; falling back on auto-configuration\n",
      "No configs specified for inline runner\n",
      "Creating temp directory /tmp/task_1.root.20231206.101814.172731\n",
      "Running step 1 of 2...\n",
      "Running step 2 of 2...\n",
      "job output is in /tmp/task_1.root.20231206.101814.172731/output\n",
      "Streaming final output from /tmp/task_1.root.20231206.101814.172731/output...\n",
      "\"\\\"HAN\\\"\"\t182\n",
      "\"\\\"LUKE\\\"\"\t128\n",
      "\"\\\"LEIA\\\"\"\t114\n",
      "\"\\\"THREEPIO\\\"\"\t92\n",
      "\"\\\"LANDO\\\"\"\t61\n",
      "\"\\\"VADER\\\"\"\t56\n",
      "\"\\\"YODA\\\"\"\t36\n",
      "\"\\\"PIETT\\\"\"\t23\n",
      "\"\\\"CREATURE\\\"\"\t21\n",
      "\"\\\"BEN\\\"\"\t15\n",
      "\"\\\"RIEEKAN\\\"\"\t13\n",
      "\"\\\"WEDGE\\\"\"\t8\n",
      "\"\\\"DECK\"\t7\n",
      "\"\\\"VEERS\\\"\"\t7\n",
      "\"\\\"ZEV\\\"\"\t6\n",
      "\"\\\"NEEDA\\\"\"\t5\n",
      "\"\\\"OZZEL\\\"\"\t5\n",
      "\"\\\"EMPEROR\\\"\"\t5\n",
      "\"\\\"BOBA\"\t4\n",
      "\"\\\"DACK\\\"\"\t4\n",
      "Removing temp directory /tmp/task_1.root.20231206.101814.172731...\n"
     ]
    }
   ],
   "source": [
    "!python3 task_1.py ../../data/SW_EpisodeV.txt"
   ]
  },
  {
   "cell_type": "code",
   "execution_count": 25,
   "id": "4d277bf7-4264-47f5-97d9-2b31cce9fc6f",
   "metadata": {},
   "outputs": [
    {
     "name": "stdout",
     "output_type": "stream",
     "text": [
      "No configs found; falling back on auto-configuration\n",
      "No configs specified for inline runner\n",
      "Creating temp directory /tmp/task_1.root.20231206.101826.658160\n",
      "Running step 1 of 2...\n",
      "Running step 2 of 2...\n",
      "job output is in /tmp/task_1.root.20231206.101826.658160/output\n",
      "Streaming final output from /tmp/task_1.root.20231206.101826.658160/output...\n",
      "\"\\\"HAN\\\"\"\t124\n",
      "\"\\\"LUKE\\\"\"\t112\n",
      "\"\\\"THREEPIO\\\"\"\t90\n",
      "\"\\\"LEIA\\\"\"\t56\n",
      "\"\\\"VADER\\\"\"\t43\n",
      "\"\\\"LANDO\\\"\"\t40\n",
      "\"\\\"EMPEROR\\\"\"\t39\n",
      "\"\\\"JABBA\\\"\"\t20\n",
      "\"\\\"BEN\\\"\"\t18\n",
      "\"\\\"ACKBAR\\\"\"\t14\n",
      "\"\\\"YODA\\\"\"\t13\n",
      "\"\\\"WEDGE\\\"\"\t11\n",
      "\"\\\"PIETT\\\"\"\t8\n",
      "\"\\\"BOUSHH\\\"\"\t7\n",
      "\"\\\"COMMANDER\\\"\"\t7\n",
      "\"\\\"JERJERROD\\\"\"\t7\n",
      "\"\\\"BIB\\\"\"\t6\n",
      "\"\\\"NINEDENINE\\\"\"\t6\n",
      "\"\\\"STORMTROOPER\\\"\"\t6\n",
      "\"\\\"CONTROLLER\\\"\"\t5\n",
      "Removing temp directory /tmp/task_1.root.20231206.101826.658160...\n"
     ]
    }
   ],
   "source": [
    "!python3 task_1.py ../../data/SW_EpisodeVI.txt"
   ]
  },
  {
   "cell_type": "code",
   "execution_count": 42,
   "id": "b88039c6-0333-4be4-8635-9e743accbbdc",
   "metadata": {},
   "outputs": [
    {
     "name": "stdout",
     "output_type": "stream",
     "text": [
      "No configs found; falling back on auto-configuration\n",
      "No configs specified for inline runner\n",
      "Running step 1 of 2...\n",
      "Creating temp directory /tmp/task_1.root.20231206.113416.958955\n",
      "Running step 2 of 2...\n",
      "job output is in out_task1/SW_EpisodeIV\n",
      "Removing temp directory /tmp/task_1.root.20231206.113416.958955...\n",
      "No configs found; falling back on auto-configuration\n",
      "No configs specified for inline runner\n",
      "Running step 1 of 2...\n",
      "Creating temp directory /tmp/task_1.root.20231206.113418.863238\n",
      "Running step 2 of 2...\n",
      "job output is in out_task1/SW_EpisodeV\n",
      "Removing temp directory /tmp/task_1.root.20231206.113418.863238...\n",
      "No configs found; falling back on auto-configuration\n",
      "No configs specified for inline runner\n",
      "Running step 1 of 2...\n",
      "Creating temp directory /tmp/task_1.root.20231206.113420.708185\n",
      "Running step 2 of 2...\n",
      "job output is in out_task1/SW_EpisodeVI\n",
      "Removing temp directory /tmp/task_1.root.20231206.113420.708185...\n",
      "No configs found; falling back on auto-configuration\n",
      "No configs specified for inline runner\n",
      "Running step 1 of 2...\n",
      "Creating temp directory /tmp/task_1.root.20231206.113422.560467\n",
      "Running step 2 of 2...\n",
      "job output is in out_task1/all\n",
      "Removing temp directory /tmp/task_1.root.20231206.113422.560467...\n"
     ]
    }
   ],
   "source": [
    "!python3 task_1.py ../../data/SW_EpisodeIV.txt --output out_task1/SW_EpisodeIV\n",
    "!python3 task_1.py ../../data/SW_EpisodeV.txt --output out_task1/SW_EpisodeV\n",
    "!python3 task_1.py ../../data/SW_EpisodeVI.txt --output out_task1/SW_EpisodeVI\n",
    "!python3 task_1.py --output out_task1/all \\\n",
    "    ../../data/SW_EpisodeIV.txt \\\n",
    "    ../../data/SW_EpisodeV.txt \\\n",
    "    ../../data/SW_EpisodeVI.txt "
   ]
  },
  {
   "cell_type": "markdown",
   "id": "5ab4ffef-fcfd-4835-85ac-32b13c208ca3",
   "metadata": {},
   "source": [
    "### На кластере (зависает выполнение джобы, по аналогии как с вычислениями на кластере в задаче Блок1)"
   ]
  },
  {
   "cell_type": "code",
   "execution_count": 40,
   "id": "0f358459-8ae5-4cb1-8778-aa4be60abf9d",
   "metadata": {},
   "outputs": [
    {
     "name": "stdout",
     "output_type": "stream",
     "text": [
      "No configs found; falling back on auto-configuration\n",
      "No configs specified for hadoop runner\n",
      "Looking for hadoop binary in /opt/hadoop/bin...\n",
      "Found hadoop binary: /opt/hadoop/bin/hadoop\n",
      "Using Hadoop version 3.3.6\n",
      "Looking for Hadoop streaming jar in /opt/hadoop...\n",
      "Found Hadoop streaming jar: /opt/hadoop/share/hadoop/tools/lib/hadoop-streaming-3.3.6.jar\n",
      "Creating temp directory /tmp/task_1.root.20231206.104632.088420\n",
      "^C\n"
     ]
    }
   ],
   "source": [
    "!python3 task_1.py -r hadoop \\\n",
    "    hdfs://namenode:8020/block_2/SW_EpisodeIV.txt \\\n",
    "    hdfs://namenode:8020/block_2/SW_EpisodeV.txt \\\n",
    "    hdfs://namenode:8020/block_2/SW_EpisodeVI.txt "
   ]
  }
 ],
 "metadata": {
  "kernelspec": {
   "display_name": "Python 3 (ipykernel)",
   "language": "python",
   "name": "python3"
  },
  "language_info": {
   "codemirror_mode": {
    "name": "ipython",
    "version": 3
   },
   "file_extension": ".py",
   "mimetype": "text/x-python",
   "name": "python",
   "nbconvert_exporter": "python",
   "pygments_lexer": "ipython3",
   "version": "3.10.12"
  }
 },
 "nbformat": 4,
 "nbformat_minor": 5
}
