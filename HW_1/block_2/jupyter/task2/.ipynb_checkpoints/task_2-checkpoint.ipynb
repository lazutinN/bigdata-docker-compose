{
 "cells": [
  {
   "cell_type": "code",
   "execution_count": 1,
   "id": "d8f50f8f-4080-4c1f-9ba0-c350a25d2c4a",
   "metadata": {},
   "outputs": [
    {
     "name": "stdout",
     "output_type": "stream",
     "text": [
      "Requirement already satisfied: mrjob in /usr/local/lib/python3.10/dist-packages (0.7.4)\n",
      "Requirement already satisfied: PyYAML>=3.10 in /usr/local/lib/python3.10/dist-packages (from mrjob) (6.0.1)\n",
      "\u001b[33mWARNING: Running pip as the 'root' user can result in broken permissions and conflicting behaviour with the system package manager. It is recommended to use a virtual environment instead: https://pip.pypa.io/warnings/venv\u001b[0m\u001b[33m\n",
      "\u001b[0m"
     ]
    }
   ],
   "source": [
    "!pip install mrjob"
   ]
  },
  {
   "cell_type": "code",
   "execution_count": 2,
   "id": "e139ee49-212d-4711-a3b4-597b06ba01d9",
   "metadata": {},
   "outputs": [
    {
     "name": "stdout",
     "output_type": "stream",
     "text": [
      "Writing task_2.py\n"
     ]
    }
   ],
   "source": [
    "%%file task_2.py\n",
    "\n",
    "from mrjob.job import MRJob\n",
    "from mrjob.step import MRStep\n",
    "\n",
    "\n",
    "class LongestPhrase(MRJob):\n",
    "    def mapper(self, _, line):\n",
    "        parts = line.split(\" \", 2)\n",
    "        if len(parts) == 3:\n",
    "            _, characterName, phrase = parts\n",
    "            yield characterName, phrase\n",
    "\n",
    "    def reducer(self, characterName, phrase):\n",
    "        longestPhrase = max(phrase, key=len)\n",
    "        yield None, (characterName, longestPhrase)\n",
    "\n",
    "    def reducer_top(self, _, longestPhrase):\n",
    "        sortedLongest = sorted(longestPhrase, key=lambda x: len(x[1]), reverse=True)\n",
    "        for character, count in sortedLongest:\n",
    "            yield character, count\n",
    "\n",
    "    def steps(self):\n",
    "        return [\n",
    "            MRStep(\n",
    "                   mapper=self.mapper,\n",
    "                   reducer=self.reducer),\n",
    "            MRStep(\n",
    "                   reducer=self.reducer_top)\n",
    "        ]\n",
    "    \n",
    "if __name__ == '__main__':\n",
    "    LongestPhrase.run()"
   ]
  },
  {
   "cell_type": "code",
   "execution_count": 4,
   "id": "223bbd3b-88cd-4d65-b90d-4e952c616dad",
   "metadata": {},
   "outputs": [
    {
     "name": "stdout",
     "output_type": "stream",
     "text": [
      "No configs found; falling back on auto-configuration\n",
      "No configs specified for inline runner\n",
      "Creating temp directory /tmp/task_2.root.20231206.122231.299777\n",
      "Running step 1 of 2...\n",
      "Running step 2 of 2...\n",
      "job output is in /tmp/task_2.root.20231206.122231.299777/output\n",
      "Streaming final output from /tmp/task_2.root.20231206.122231.299777/output...\n",
      "\"\\\"LEIA\\\"\"\t\"\\\"General Kenobi, years ago you served my father in the Clone Wars.  Now he begs you to help him in his struggle against the Empire.  I regret that I am unable to present my father's request to you in person, but my ship has fallen under attack and I'm afraid my mission to bring you to Alderaan has failed.  I have placed information vital to the survival of the Rebellion into the memory systems of this R2 unit.  My father will know how to retrieve it.  You must see this droid safely delivered to him on Alderaan.  This is our most desperate hour.  Help me, Obi-Wan Kenobi, you're my only hope.\\\"\"\n",
      "\"\\\"BIGGS\\\"\"\t\"\\\"I feel for you, Luke, you're going to have to learn what seems to be important or what really is important.  What good is all your uncle's work if it's taken over by the Empire?...  You know they're starting to nationalize commerce in the central systems...it won't be long before your uncle is merely a tenant, slaving for the greater glory of the Empire.\\\"\"\n",
      "\"\\\"DODONNA\\\"\"\t\"\\\"The approach will not be easy.  You are required to maneuver straight down this trench and skim the surface to this point.  The target area is only two meters wide.  It's a small thermal exhaust port, right below the main port.  The shaft leads directly to the reactor system.  A precise hit will start a chain reaction which should destroy the station.\\\"\"\n",
      "\"\\\"JABBA\\\"\"\t\"\\\"Put your blasters away.  Han, my boy, I'm only doing this because you're the best and I need you.  So, for an extra, say... twenty percent I'll give you a little more time... but this is it.  If you disappoint me again, I'll put a price on your head so large you won't be able to go near a civilized system for the rest of your short life.\\\"\"\n",
      "\"\\\"LUKE\\\"\"\t\"\\\"... so I cut off my power, shut down the afterburners and came in low on Deak's trail.  I was so close I thought I was going to fry my instruments. As it was I busted up the Skyhopper pretty bad.  Uncle Owen was pretty upset.  He grounded me for the rest of the season.  You should have been there... it was fantastic.\\\"\"\n",
      "\"\\\"TARKIN\\\"\"\t\"\\\"Not after we demonstrate the power of this station.  In a way, you have determined the choice of the planet that'll be destroyed first.  Since you are reluctant to provide us with the location of the Rebel base, I have chosen to test this station's destructive power... on your home planet of Alderaan.\\\"\"\n",
      "\"\\\"THREEPIO\\\"\"\t\"\\\"He says he's the property of Obi-Wan Kenobi, a resident of these parts.  And it's a private message for him.  Quite frankly, sir, I don't know what he's talking about.  Our last master was Captain Antilles, but with what we've been through, this little R2 unit has become a bit eccentric.\\\"\"\n",
      "\"\\\"BEN\\\"\"\t\"\\\"A young Jedi named Darth Vader, who was a pupil of mine until he turned to evil, helped the Empire hunt down and destroy the Jedi Knights.  He betrayed and murdered your father.  Now the Jedi are all but extinct.  Vader was seduced by the dark side of the Force.\\\"\"\n",
      "\"\\\"VADER\\\"\"\t\"\\\"Don't play games with me, Your Highness.  You weren't on any mercy mission this time.  You passed directly through a restricted system.  Several transmissions were beamed to this ship by Rebel spies.  I want to know what happened to the plans they sent you.\\\"\"\n",
      "\"\\\"HAN\\\"\"\t\"\\\"Kid, I've flown from one side of this galaxy to the other.  I've seen a lot of strange stuff, but I've never seen anything to make me believe there's one all-powerful force controlling everything.  There's no mystical energy field that controls my destiny.\\\"\"\n",
      "\"\\\"MOTTI\\\"\"\t\"\\\"Don't try to frighten us with your sorcerer's ways, Lord Vader.  Your sad devotion to that ancient religion has not helped you conjure up the stolen data tapes, or given you clairvoyance enough to find the Rebel's hidden fort...\\\"\"\n",
      "\"\\\"OFFICER\"\t\"CASS\\\" \\\"Our scout ships have reached Dantooine.  They found the remains of a Rebel base, but they estimate that it has been deserted for some time.  They are now conducting an extensive search of the surrounding systems.\\\"\"\n",
      "\"\\\"GREEDO\\\"\"\t\"\\\"It's too late.  You should have paid him when you had the chance.  Jabba's put a price on your head, so large that every bounty hunter in the galaxy will be looking for you.  I'm lucky I found you first.\\\"\"\n",
      "\"\\\"OWEN\\\"\"\t\"\\\"Harvest is when I need you the most.  Only one more season.  This year we'll make enough on the harvest so I'll be able to hire some more hands.  And then you can go to the Academy next year.\\\"\"\n",
      "\"\\\"SECOND\"\t\"OFFICER\\\" \\\"Lord Vader, the battle station plans are not aboard this ship!  And no transmissions were made.  An escape pod was jettisoned during the fighting, but no life forms were aboard.\\\"\"\n",
      "\"\\\"TAGGE\\\"\"\t\"\\\"And what of the Rebellion?  If the Rebels have obtained a complete technical readout of this station, it is possible, however unlikely, that they might find a weakness and exploit it.\\\"\"\n",
      "\"\\\"FIXER\\\"\"\t\"\\\"I keep telling you, the Rebellion is a long way from here.  I doubt if the Empire would even fight to keep this system.  Believe me Luke, this planet is a big hunk of nothing...\\\"\"\n",
      "\"\\\"RED\"\t\"LEADER\\\" \\\"I met your father once when I was just a boy.  He was a great pilot.  You'll do all right.  If you've got half of your father's skill, you'll do better than all right.\\\"\"\n",
      "\"\\\"OFFICER\\\"\"\t\"\\\"There's no one on board, sir.  According to the log, the crew abandoned ship right after takeoff.  It must be a decoy, sir.  Several of the escape pods have been jettisoned.\\\"\"\n",
      "\"\\\"VOICE\\\"\"\t\"\\\"We've captured a freighter entering the remains of the Alderaan system.  It's markings match those of a ship that blasted its way out of Mos Eisley.\\\"\"\n",
      "\"\\\"DEATH\"\t\"STAR INTERCOM VOICE\\\" \\\"We are approaching the planet Yavin.  The Rebel base is on a moon on the far side.  We are preparing to orbit the planet.\\\"\"\n",
      "\"\\\"COMMANDER\\\"\"\t\"\\\"Holding her is dangerous.  If word of this gets out, it could generate sympathy for the Rebellion in the senate.\\\"\"\n",
      "\"\\\"HUMAN\\\"\"\t\"\\\"Don't insult us.  You just watch yourself.  We're wanted men.  I have the death sentence on twelve systems.\\\"\"\n",
      "\"\\\"MASSASSI\"\t\"INTERCOM VOICE\\\" \\\"Stand-by alert.  Death Star approaching.  Estimated time to firing range, fifteen minutes.\\\"\"\n",
      "\"\\\"REBEL\"\t\"OFFICER\\\" \\\"We intercepted no transmissions. Aaah...  This is a consular ship. Were on a diplomatic mission.\\\"\"\n",
      "\"\\\"TROOPER\\\"\"\t\"\\\"The ship's all yours.  If the scanners pick up anything, report it immediately.  All right, let's go.\\\"\"\n",
      "\"\\\"WEDGE\\\"\"\t\"\\\"My scope shows the tower, but I can't see the exhaust port!  Are you sure the computer can hit it?\\\"\"\n",
      "\"\\\"IMPERIAL\"\t\"OFFICER\\\" \\\"The final check-out is complete.  All systems are operational.  What course shall we set?\\\"\"\n",
      "\"\\\"AUNT\"\t\"BERU\\\" \\\"Owen, he can't stay here forever.  Most of his friends have gone.  It means so much to him.\\\"\"\n",
      "\"\\\"ASTRO-OFFICER\\\"\"\t\"\\\"We count thirty Rebel ships, Lord Vader.  But they're so small they're evading our turbo-lasers!\\\"\"\n",
      "\"\\\"CONTROL\"\t\"OFFICER\\\" \\\"Squad leaders, we've picked up a new group of signals.  Enemy fighters coming your way.\\\"\"\n",
      "\"\\\"GOLD\"\t\"LEADER\\\" \\\"Pardon me for asking, sir, but what good are snub fighters going to be against that?\\\"\"\n",
      "\"\\\"VOICE\"\t\"OVER DEATH STAR INTERCOM\\\" \\\"Clear Bay twenty-three-seven.  We are opening the magnetic field.\\\"\"\n",
      "\"\\\"BASE\"\t\"VOICE\\\" \\\"His computer's off.  Luke, you switched off your targeting computer.  What's wrong?\\\"\"\n",
      "\"\\\"WILLARD\\\"\"\t\"\\\"When we heard about Alderaan, we were afraid that you were... lost along with your father.\\\"\"\n",
      "\"\\\"GANTRY\"\t\"OFFICER\\\" \\\"TX-four-one-two.  Why aren't you at your post?  TX-four-one-two, do you copy? \\\"\"\n",
      "\"\\\"INTERCOM\"\t\"VOICE\\\" \\\"Governor Tarkin, we have an emergency alert in detention block AA-twenty-three.\\\"\"\n",
      "\"\\\"CAPTAIN\\\"\"\t\"\\\"Hold your fire.  There are no life forms.  It must have been short-circuited.\\\"\"\n",
      "\"\\\"MAN\\\"\"\t\"\\\"All flight troops, man your stations.  All flight troops, man your stations.\\\"\"\n",
      "\"\\\"BERU\\\"\"\t\"\\\"Luke, tell Owen that if he gets a translator to be sure it speaks Bocce.\\\"\"\n",
      "\"\\\"FIRST\"\t\"TROOPER\\\" \\\"Someone was in the pod.  The tracks go off in this direction. \\\"\"\n",
      "\"\\\"BARTENDER\\\"\"\t\"\\\"Your droids. They'll have to wait outside.  We don't want them here.\\\"\"\n",
      "\"\\\"CHIEF\\\"\"\t\"\\\"This R2 unit of your seems a bit beat up.  Do you want a new one?\\\"\"\n",
      "\"\\\"CAMIE\\\"\"\t\"\\\"It was just Wormie on another rampage.\\\"\"\n",
      "\"\\\"TECHNICIAN\\\"\"\t\"\\\"We'll get to work on him right away.\\\"\"\n",
      "\"\\\"WOMAN\\\"\"\t\"\\\"I've told you kids to slow down!\\\"\"\n",
      "\"\\\"CHIEF\"\t\"PILOT\\\" \\\"There goes another one.\\\"\"\n",
      "\"\\\"CREATURE\\\"\"\t\"\\\"Negola dewaghi wooldugger?!?\\\"\"\n",
      "\"\\\"TROOPER\"\t\"VOICE\\\" \\\"Open up in there!\\\"\"\n",
      "\"\\\"DEAK\\\"\"\t\"\\\"Not again!  Forget it.\\\"\"\n",
      "\"\\\"PORKINS\\\"\"\t\"\\\"Red Six standing by.\\\"\"\n",
      "\"\\\"WINGMAN\\\"\"\t\"\\\"Yes, sir.\\\"\"\n",
      "Removing temp directory /tmp/task_2.root.20231206.122231.299777...\n"
     ]
    }
   ],
   "source": [
    "!python3 task_2.py ../../ha_1/data/SW_EpisodeIV.txt"
   ]
  },
  {
   "cell_type": "code",
   "execution_count": 5,
   "id": "093e4581-3246-4137-81f2-4b606517a49a",
   "metadata": {},
   "outputs": [
    {
     "name": "stdout",
     "output_type": "stream",
     "text": [
      "No configs found; falling back on auto-configuration\n",
      "No configs specified for inline runner\n",
      "Creating temp directory /tmp/task_2.root.20231206.122249.239144\n",
      "Running step 1 of 2...\n",
      "Running step 2 of 2...\n",
      "job output is in /tmp/task_2.root.20231206.122249.239144/output\n",
      "Streaming final output from /tmp/task_2.root.20231206.122249.239144/output...\n",
      "\"\\\"YODA\\\"\"\t\"\\\"Ready, are you? What know you of ready? For eight hundred years  have I trained Jedi. My own counsel will I keep on who is to be trained! A Jedi must have the deepest commitment, the most serious mind.  This one a long time have I watched. Never his mind on where he was. Hmm? What he was doing. Hmph. Adventure. Heh! Excitement. Heh! A Jedi craves not these things.  You are reckless!\\\"\"\n",
      "\"\\\"VADER\\\"\"\t\"\\\"There is no escape. Don't make me destroy you. You do not yet  realize your importance. You have only begun to discover you power. Join me and I will complete your training. With our combined strength, we can end this destructive conflict and bring order to the galaxy.\\\"\"\n",
      "\"\\\"LEIA\\\"\"\t\"\\\"All troop carriers will assemble at the north entrance. The  heavy transport ships will leave as soon as they're loaded. Only two fighter escorts per ship. The energy shield can only be opened for a short time, so you'll have to stay very close to your transports.\\\"\"\n",
      "\"\\\"THREEPIO\\\"\"\t\"\\\"Don't try to blame me. I didn't ask you to turn on the  thermal heater. I merely commented that it was freezing in the princess's chamber. But it's supposed to be freezing. How are we going to dry out all her clothes? I really don't know.\\\"\"\n",
      "\"\\\"LANDO\\\"\"\t\"\\\"That's always been a danger looming like a shadow over  everything we've built here. But things have developed that will insure security. I've just made a deal that will keep the Empire out of here forever.\\\"\"\n",
      "\"\\\"VEERS\\\"\"\t\"\\\"My lord, the fleet has moves out of light-speed. Com-Scan has  detected an energy field protecting an area around the sixth planet of the Hoth system. The field is strong enough to deflect any bombardment.\\\"\"\n",
      "\"\\\"LUKE\\\"\"\t\"\\\"If you're saying coming here was a bad idea, I'm beginning to  agree with you. Oh, Artoo, what are we doing here? It's like... something out of a dream, or, I don't know. Maybe I'm just going crazy.\\\"\"\n",
      "\"\\\"PIETT\\\"\"\t\"\\\"Lord Vader, our ships have completed their scan of the area and  found nothing. If the Millennium Falcon went into light-speed, it'll be on the other side of the galaxy by now.\\\"\"\n",
      "\"\\\"REBEL\"\t\"CAPTAIN\\\" \\\"Groups seven and ten will stay behind to fly the  speeders. As soon as each transport is loaded, evacuation control will give clearance for immediate launch.\\\"\"\n",
      "\"\\\"NEEDA\\\"\"\t\"\\\"...and that, Lord Vader, was the last time they  appeared in any of our scopes. Considering the amount of damage we've sustained, they must have been destroyed.\\\"\"\n",
      "\"\\\"HAN\\\"\"\t\"\\\"Yeah, that's what I thought. Mynock. Chewie, check the rest of  the ship, make sure there aren't any more attached. They're chewing on the power cables.\\\"\"\n",
      "\"\\\"RIEEKAN\\\"\"\t\"\\\"Reroute all power to the energy shield. We've got to hold  them till all transports are away. Prepare for ground assault.\\\"\"\n",
      "\"\\\"ZEV\\\"\"\t\"\\\"This is Rouge Two. this is Rouge Two. Captain  Solo, so you copy? Commander Skywalker, do you copy? This is Rouge Two.\\\"\"\n",
      "\"\\\"BEN\\\"\"\t\"\\\"But you cannot control it. This is a dangerous time for you, when  you will be tempted by the dark side of the Force.\\\"\"\n",
      "\"\\\"DECK\"\t\"OFFICER\\\" \\\"Sir, Commander Skywalker hasn't come in through the  south entrance. He might have forgotten to check in.\\\"\"\n",
      "\"\\\"CREATURE\\\"\"\t\"\\\"Not far. Yoda not far. Patience. Soon you will be with him.   Rootleaf, I cook. Why wish you become Jedi? Hm?\\\"\"\n",
      "\"\\\"OZZEL\\\"\"\t\"\\\"My lord, there are so many uncharted settlements. It could be  smugglers, it could be...\\\"\"\n",
      "\"\\\"DERLIN\\\"\"\t\"\\\"Your Highness, there's nothing more we can do tonight. The  shield doors must be closed.\\\"\"\n",
      "\"\\\"CONTROLLER\\\"\"\t\"\\\"General, there's a fleet of Star Destroyers coming out of  hyperspace in sector four.\\\"\"\n",
      "\"\\\"DACK\\\"\"\t\"\\\"Luke, we've got a malfunction in fire control. I'll have to cut  in the auxiliary.\\\"\"\n",
      "\"\\\"LIEUTENANT\\\"\"\t\"\\\"Sir, all the patrols are in. There's still no contact from  Skywalker or Solo.\\\"\"\n",
      "\"\\\"SECOND\"\t\"CONTROLLER\\\" \\\"Sir, we have a priority signal from the Star  Destroyer Avenger.\\\"\"\n",
      "\"\\\"EMPEROR\\\"\"\t\"\\\"The Force is strong with him. The son of Skywalker must not  become a Jedi.\\\"\"\n",
      "\"\\\"MEDICAL\"\t\"DROID\\\" \\\"Sir, it will take quite awhile to evacuate the T-forty-  sevens.\\\"\"\n",
      "\"\\\"ASSISTANT\"\t\"OFFICER\\\" \\\"I'll cover sector twelve. Have com-control set  screen alpha.\\\"\"\n",
      "\"\\\"SENIOR\"\t\"CONTROLLER\\\" \\\"No. Wait -- there's something very weak coming  through.\\\"\"\n",
      "\"\\\"TRACKING\"\t\"OFFICER\\\" \\\"Captain Needa, the ship no longer appears on our  scopes.\\\"\"\n",
      "\"\\\"COMMUNICATIONS\"\t\"OFFICER\\\" \\\"Captain, Lord Vader demands an update on the  pursuit.\\\"\"\n",
      "\"\\\"INTERCOM\"\t\"VOICE\\\" \\\"Permission granted to land on Platform  Three-two-seven.\\\"\"\n",
      "\"\\\"BOBA\"\t\"FETT\\\" \\\"What if he doesn't survive? He's worth a lot to me.\\\"\"\n",
      "\"\\\"IMPERIAL\"\t\"SOLDIER\\\" \\\"Lord Vader, ship approaching. X-wing class.\\\"\"\n",
      "\"\\\"ANNOUNCER\\\"\"\t\"\\\"Headquarters personnel, report to command  center.\\\"\"\n",
      "\"\\\"HEAD\"\t\"CONTROLLER\\\" \\\"K-one-zero...all troops disengage.\\\"\"\n",
      "\"\\\"WEDGE\\\"\"\t\"\\\"Good luck, Luke. See you at the rendezvous.\\\"\"\n",
      "\"\\\"TRENCH\"\t\"OFFICER\\\" \\\"We have spotted Imperial walkers!\\\"\"\n",
      "\"\\\"WOMAN\"\t\"CONTROLLER\\\" \\\"Stand by, ion control....Fire!\\\"\"\n",
      "\"\\\"HOBBIE\\\"\"\t\"\\\"Two fighters against a Star Destroyer?\\\"\"\n",
      "\"\\\"CAPTAIN\\\"\"\t\"\\\"Good. Our first catch of the day.\\\"\"\n",
      "\"\\\"PILOT\\\"\"\t\"\\\"One-seven, decimal two-eight.\\\"\"\n",
      "\"\\\"JANSON\\\"\"\t\"\\\"Coming around. Once more.\\\"\"\n",
      "\"\\\"STRANGE\"\t\"VOICE\\\" \\\"Feel like what?\\\"\"\n",
      "\"\\\"FIRST\"\t\"CONTROLLER\\\" \\\"Yes, sir.\\\"\"\n",
      "\"\\\"OFFICER\\\"\"\t\"\\\"Begin retreat!\\\"\"\n",
      "\"\\\"MAN\\\"\"\t\"\\\"Who are you?\\\"\"\n",
      "\"\\\"PILOTS\\\"\"\t\"\\\"Right. Okay.\\\"\"\n",
      "Removing temp directory /tmp/task_2.root.20231206.122249.239144...\n"
     ]
    }
   ],
   "source": [
    "!python3 task_2.py ../../ha_1/data/SW_EpisodeV.txt"
   ]
  },
  {
   "cell_type": "code",
   "execution_count": 6,
   "id": "779ce9f5-6bdb-4cc8-9b2b-217a1b3d5a64",
   "metadata": {},
   "outputs": [
    {
     "name": "stdout",
     "output_type": "stream",
     "text": [
      "No configs found; falling back on auto-configuration\n",
      "No configs specified for inline runner\n",
      "Creating temp directory /tmp/task_2.root.20231206.122259.783778\n",
      "Running step 1 of 2...\n",
      "Running step 2 of 2...\n",
      "job output is in /tmp/task_2.root.20231206.122259.783778/output\n",
      "Streaming final output from /tmp/task_2.root.20231206.122259.783778/output...\n",
      "\"\\\"BEN\\\"\"\t\"\\\"The Organa household was high-born and politically quite powerful in that system. Leia became a princess by virtue of lineage... no one knew she'd been adopted, of course. But it was a title without real power, since Alderaan had long been a democracy.  Even so, the family continued to be politically powerful, and Leia, following in her foster father's path, became a senator as well.  That's not all she became, of course... she became the leader of her cell in the Alliance against the corrupt Empire. And because she had diplomatic immunity, she was a vital link for getting information to the Rebel cause.  That's what she was doing when her path crossed yours... for her foster parents had always told her to contact me on Tatooine, if her troubles became desperate.\\\"\"\n",
      "\"\\\"ACKBAR\\\"\"\t\"\\\"You can see here the Death Star orbiting the forest Moon of Endor. Although the weapon systems on this Death Star are not yet operational, the Death Star does have a strong defense mechanism. It is protected by an energy shield, which is generated from the nearby forest Moon of Endor. The shield must be deactivated if any attack is to be attempted. Once the shield is down, our cruisers will create a perimeter, while the fighters fly into the superstructure and attempt to knock out the main reactor.\\\"\"\n",
      "\"\\\"LUKE\\\"\"\t\"\\\"Greetings, Exalted One. Allow me to introduce myself. I am Luke Skywalker, Jedi Knight and friend to Captain Solo. I know that you are powerful, mighty Jabba, and that your anger with Solo must be equally powerful. I seek an audience with Your Greatness to bargain for Solo's life.  With your wisdom, I'm sure that we can work out an arrangement which will be mutually beneficial and enable us to avoid any unpleasant confrontation. As a token of my goodwill, I present to you a gift: these two droids.\\\"\"\n",
      "\"\\\"MON\"\t\"MOTHMA\\\" \\\"The data brought to us by the Bothan spies pinpoints the exact location of the Emperor's new battle station. We also know that the weapon systems of this Death Star are not yet operational. With the Imperial Fleet spread throughout the galaxy in a vain effort to engage us, it is relatively unprotected. But most important of all, we've learned that the Emperor himself is personally overseeing the final stages of the construction of this Death Star.\\\"\"\n",
      "\"\\\"YODA\\\"\"\t\"\\\"Luke...Luke...Do not...Do not underestimate the powers of the Emperor, or suffer your father's fate, you will. Luke, when gone am I , the last of the Jedi will you be. Luke, the Force runs strong in your family. Pass on what you have learned, Luke...  There is... another...Sky...Sky...walker.\\\"\"\n",
      "\"\\\"EMPEROR\\\"\"\t\"\\\"...are walking into a trap. As is your Rebel fleet! It was I who allowed the Alliance to know the location of the shield generator. It is quite safe from your pitiful little band. An entire legion of my best troops awaits them.\\\"\"\n",
      "\"\\\"VADER\\\"\"\t\"\\\"Sister! So...you have a twin sister. Your feelings have now betrayed her, too. Obi-Wan was wise to hide her from me. Now his failure is complete. If you will not turn to the dark side, then perhaps she will.\\\"\"\n",
      "\"\\\"THREEPIO\\\"\"\t\"\\\"Victims of the almighty Sarlacc: His Excellency hopes that you will die honorably. But should any of you wish to beg for mercy, the great Jabba the Hutt will now listen to your pleas.\\\"\"\n",
      "\"\\\"GENERAL\"\t\"MADINE\\\" \\\"We have stolen a small Imperial shuttle. Disguised as a cargo ship, and using a secret Imperial code, a strike team will land on the moon and deactivate the shield generator.\\\"\"\n",
      "\"\\\"COMMANDER\\\"\"\t\"\\\"This is a Rebel that surrendered to us. Although he denies it, I believe there may be more of them, and I request permission to conduct a further search of the area.\\\"\"\n",
      "\"\\\"DEATH\"\t\"STAR CONTROLLER\\\" \\\"The security deflector shield will be deactivated when we have confirmation of your code transmission. Stand by... You are clear to proceed.\\\"\"\n",
      "\"\\\"HAN\\\"\"\t\"\\\"Now don't get jittery, Luke. There are a lot of command ships. Keep your distance though, Chewie, but don't look like you're trying to keep your distance.\\\"\"\n",
      "\"\\\"LANDO\\\"\"\t\"\\\"We've got to be able to get some kind of a reading on that shield, up or down. Well, how could they be jamming us if they don't know if we're coming.\\\"\"\n",
      "\"\\\"NINEDENINE\\\"\"\t\"\\\"You're a feisty little one, but you'll soon learn some respect. I have need for you on the master's Sail Barge. And I think you'll fit in nicely.\\\"\"\n",
      "\"\\\"HAN/PILOT\\\"\"\t\"\\\"It's over, Commander. The Rebels have been routed. They're fleeing into the woods. We need reinforcements to continue the pursuit.\\\"\"\n",
      "\"\\\"PIETT\\\"\"\t\"\\\"I have my orders from the Emperor himself. He has something special planned for them. We only need to keep them from escaping.\\\"\"\n",
      "\"\\\"SHUTTLE\"\t\"CAPTAIN\\\" \\\"Command station, this is ST 321. Code Clearance Blue. We're starting our approach. Deactivate the security shield.\\\"\"\n",
      "\"\\\"LEIA\\\"\"\t\"\\\"No! Luke, run away, far away. If he can feel your presence, then leave this place. I wish I could go with you.\\\"\"\n",
      "\"\\\"CONTROLLER\\\"\"\t\"\\\"Shuttle Tydirium, deactivation of the shield will commence immediately. Follow your present course.\\\"\"\n",
      "\"\\\"JABBA\\\"\"\t\"\\\"It's too late for that, Solo. You may have been a good smuggler, but now you're Bantha fodder.\\\"\"\n",
      "\"\\\"ANAKIN\\\"\"\t\"\\\"You already have, Luke. You were right about me. Tell your sister...you were right.\\\"\"\n",
      "\"\\\"WEDGE\\\"\"\t\"\\\"Cut to the left! I'll take the leader! They're heading for the medical frigate.\\\"\"\n",
      "\"\\\"JERJERROD\\\"\"\t\"\\\"Lord Vader, this is an unexpected pleasure.  We're honored by your presence.\\\"\"\n",
      "\"\\\"CONTROL\"\t\"ROOM COMMANDER\\\" \\\"Send three squads to help. Open the back door.\\\"\"\n",
      "\"\\\"GUARD\\\"\"\t\"\\\"Halt! The Emperor does not wish to be disturbed at the moment.\\\"\"\n",
      "\"\\\"OFFICER\\\"\"\t\"\\\"Inform the commander that Lord Vader's shuttle has arrived.\\\"\"\n",
      "\"\\\"BOUSHH\\\"\"\t\"\\\"Just relax for a moment. You're free of the carbonite.\\\"\"\n",
      "\"\\\"PILOT\"\t\"VOICE\\\" \\\"Parts and technical crew for the forest moon.\\\"\"\n",
      "\"\\\"RED\"\t\"THREE\\\" \\\"Three of them coming in, twenty degrees!\\\"\"\n",
      "\"\\\"SCOUT\"\t\"#1\\\" \\\"Go get your ride and take her back to base.\\\"\"\n",
      "\"\\\"STORMTROOPER\\\"\"\t\"\\\"All right, move it! I said move it! Go on!\\\"\"\n",
      "\"\\\"BIB\\\"\"\t\"\\\"Nee Jabba no badda. Me chaade su goodie.\\\"\"\n",
      "\"\\\"BUNKER\"\t\"COMMANDER\\\" \\\"Bring those two down here!\\\"\"\n",
      "\"\\\"OOLA\\\"\"\t\"\\\"Na Chuba negatorie Na! Na! Natoota...\\\"\"\n",
      "\"\\\"GREEN\"\t\"LEADER\\\" \\\"Green Leader standing by.\\\"\"\n",
      "\"\\\"GRAY\"\t\"LEADER\\\" \\\"Gray Leader standing by.\\\"\"\n",
      "\"\\\"REBEL\"\t\"PILOT\\\" \\\"There's too many of them!\\\"\"\n",
      "\"\\\"SCOUT\\\"\"\t\"\\\"Look! Over there! Stop him!\\\"\"\n",
      "\"\\\"STRANGE\"\t\"VOICE\\\" \\\"Tee chuta hhat yudd!\\\"\"\n",
      "\"\\\"SECOND\"\t\"COMMANDER\\\" \\\"Yes, sir.\\\"\"\n",
      "\"\\\"VOICE\\\"\"\t\"\\\"I'm with you, too!\\\"\"\n",
      "\"\\\"NAVIGATOR\\\"\"\t\"\\\"Pressure's steady.\\\"\"\n",
      "\"\\\"PILOT\\\"\"\t\"\\\"Copy, Gold Leader.\\\"\"\n",
      "\"\\\"WALKER\"\t\"PILOT #1\\\" \\\"Look!\\\"\"\n",
      "\"\\\"Y-WING\"\t\"PILOT\\\" \\\"I'm hit!\\\"\"\n",
      "\"\\\"HAN\"\t\"and LUKE\\\" \\\"Leia!\\\"\"\n",
      "\"\\\"LURE\\\"\"\t\"\\\"But you'll die.\\\"\"\n",
      "\"\\\"OPERATOR\\\"\"\t\"\\\"Yes, sir.\\\"\"\n",
      "Removing temp directory /tmp/task_2.root.20231206.122259.783778...\n"
     ]
    }
   ],
   "source": [
    "!python3 task_2.py ../../ha_1/data/SW_EpisodeVI.txt"
   ]
  },
  {
   "cell_type": "code",
   "execution_count": 9,
   "id": "24f0c914-463f-413a-b8c3-5688a4854685",
   "metadata": {},
   "outputs": [
    {
     "name": "stdout",
     "output_type": "stream",
     "text": [
      "No configs found; falling back on auto-configuration\n",
      "No configs specified for inline runner\n",
      "Running step 1 of 2...\n",
      "Creating temp directory /tmp/task_2.root.20231206.122425.654426\n",
      "Running step 2 of 2...\n",
      "job output is in out_task2/SW_EpisodeIV\n",
      "Removing temp directory /tmp/task_2.root.20231206.122425.654426...\n",
      "No configs found; falling back on auto-configuration\n",
      "No configs specified for inline runner\n",
      "Running step 1 of 2...\n",
      "Creating temp directory /tmp/task_2.root.20231206.122427.694831\n",
      "Running step 2 of 2...\n",
      "job output is in out_task2/SW_EpisodeV\n",
      "Removing temp directory /tmp/task_2.root.20231206.122427.694831...\n",
      "No configs found; falling back on auto-configuration\n",
      "No configs specified for inline runner\n",
      "Running step 1 of 2...\n",
      "Creating temp directory /tmp/task_2.root.20231206.122429.681217\n",
      "Running step 2 of 2...\n",
      "job output is in out_task2/SW_EpisodeVI\n",
      "Removing temp directory /tmp/task_2.root.20231206.122429.681217...\n",
      "No configs found; falling back on auto-configuration\n",
      "No configs specified for inline runner\n",
      "Running step 1 of 2...\n",
      "Creating temp directory /tmp/task_2.root.20231206.122431.608426\n",
      "Running step 2 of 2...\n",
      "job output is in out_task2/all\n",
      "Removing temp directory /tmp/task_2.root.20231206.122431.608426...\n"
     ]
    }
   ],
   "source": [
    "!python3 task_2.py ../../ha_1/data/SW_EpisodeIV.txt --output out_task2/SW_EpisodeIV\n",
    "!python3 task_2.py ../../ha_1/data/SW_EpisodeV.txt --output out_task2/SW_EpisodeV\n",
    "!python3 task_2.py ../../ha_1/data/SW_EpisodeVI.txt --output out_task2/SW_EpisodeVI\n",
    "!python3 task_2.py --output out_task2/all \\\n",
    "    ../../ha_1/data/SW_EpisodeIV.txt \\\n",
    "    ../../ha_1/data/SW_EpisodeV.txt \\\n",
    "    ../../ha_1/data/SW_EpisodeVI.txt "
   ]
  }
 ],
 "metadata": {
  "kernelspec": {
   "display_name": "Python 3 (ipykernel)",
   "language": "python",
   "name": "python3"
  },
  "language_info": {
   "codemirror_mode": {
    "name": "ipython",
    "version": 3
   },
   "file_extension": ".py",
   "mimetype": "text/x-python",
   "name": "python",
   "nbconvert_exporter": "python",
   "pygments_lexer": "ipython3",
   "version": "3.10.12"
  }
 },
 "nbformat": 4,
 "nbformat_minor": 5
}
